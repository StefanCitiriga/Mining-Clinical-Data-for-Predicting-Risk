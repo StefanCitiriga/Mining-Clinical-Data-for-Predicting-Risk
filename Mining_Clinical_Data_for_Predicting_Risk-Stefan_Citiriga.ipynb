{
 "cells": [
  {
   "cell_type": "code",
   "execution_count": 1,
   "id": "1cf8f308",
   "metadata": {},
   "outputs": [],
   "source": [
    "import pandas as pd\n",
    "import numpy as np"
   ]
  },
  {
   "cell_type": "code",
   "execution_count": 2,
   "id": "d3b84153",
   "metadata": {},
   "outputs": [
    {
     "data": {
      "text/html": [
       "<div>\n",
       "<style scoped>\n",
       "    .dataframe tbody tr th:only-of-type {\n",
       "        vertical-align: middle;\n",
       "    }\n",
       "\n",
       "    .dataframe tbody tr th {\n",
       "        vertical-align: top;\n",
       "    }\n",
       "\n",
       "    .dataframe thead th {\n",
       "        text-align: right;\n",
       "    }\n",
       "</style>\n",
       "<table border=\"1\" class=\"dataframe\">\n",
       "  <thead>\n",
       "    <tr style=\"text-align: right;\">\n",
       "      <th></th>\n",
       "      <th>Random</th>\n",
       "      <th>Id</th>\n",
       "      <th>Indication</th>\n",
       "      <th>Diabetes</th>\n",
       "      <th>IHD</th>\n",
       "      <th>Hypertension</th>\n",
       "      <th>Arrhythmia</th>\n",
       "      <th>History</th>\n",
       "      <th>IPSI</th>\n",
       "      <th>Contra</th>\n",
       "      <th>label</th>\n",
       "    </tr>\n",
       "  </thead>\n",
       "  <tbody>\n",
       "    <tr>\n",
       "      <th>0</th>\n",
       "      <td>0.473452</td>\n",
       "      <td>198992</td>\n",
       "      <td>CVA</td>\n",
       "      <td>yes</td>\n",
       "      <td>yes</td>\n",
       "      <td>yes</td>\n",
       "      <td>yes</td>\n",
       "      <td>no</td>\n",
       "      <td>89.0</td>\n",
       "      <td>100</td>\n",
       "      <td>Risk</td>\n",
       "    </tr>\n",
       "    <tr>\n",
       "      <th>1</th>\n",
       "      <td>0.218756</td>\n",
       "      <td>253100</td>\n",
       "      <td>CVA</td>\n",
       "      <td>no</td>\n",
       "      <td>no</td>\n",
       "      <td>no</td>\n",
       "      <td>no</td>\n",
       "      <td>no</td>\n",
       "      <td>67.0</td>\n",
       "      <td>100</td>\n",
       "      <td>NoRisk</td>\n",
       "    </tr>\n",
       "    <tr>\n",
       "      <th>2</th>\n",
       "      <td>0.131260</td>\n",
       "      <td>155737</td>\n",
       "      <td>CVA</td>\n",
       "      <td>no</td>\n",
       "      <td>yes</td>\n",
       "      <td>yes</td>\n",
       "      <td>no</td>\n",
       "      <td>no</td>\n",
       "      <td>79.0</td>\n",
       "      <td>20</td>\n",
       "      <td>NoRisk</td>\n",
       "    </tr>\n",
       "    <tr>\n",
       "      <th>3</th>\n",
       "      <td>0.102954</td>\n",
       "      <td>251222</td>\n",
       "      <td>A-F</td>\n",
       "      <td>no</td>\n",
       "      <td>yes</td>\n",
       "      <td>no</td>\n",
       "      <td>no</td>\n",
       "      <td>no</td>\n",
       "      <td>69.0</td>\n",
       "      <td>40</td>\n",
       "      <td>NoRisk</td>\n",
       "    </tr>\n",
       "    <tr>\n",
       "      <th>4</th>\n",
       "      <td>0.236142</td>\n",
       "      <td>197183</td>\n",
       "      <td>CVA</td>\n",
       "      <td>no</td>\n",
       "      <td>no</td>\n",
       "      <td>no</td>\n",
       "      <td>no</td>\n",
       "      <td>no</td>\n",
       "      <td>89.0</td>\n",
       "      <td>30</td>\n",
       "      <td>NoRisk</td>\n",
       "    </tr>\n",
       "    <tr>\n",
       "      <th>...</th>\n",
       "      <td>...</td>\n",
       "      <td>...</td>\n",
       "      <td>...</td>\n",
       "      <td>...</td>\n",
       "      <td>...</td>\n",
       "      <td>...</td>\n",
       "      <td>...</td>\n",
       "      <td>...</td>\n",
       "      <td>...</td>\n",
       "      <td>...</td>\n",
       "      <td>...</td>\n",
       "    </tr>\n",
       "    <tr>\n",
       "      <th>1515</th>\n",
       "      <td>0.587315</td>\n",
       "      <td>113117</td>\n",
       "      <td>Asx</td>\n",
       "      <td>no</td>\n",
       "      <td>yes</td>\n",
       "      <td>yes</td>\n",
       "      <td>yes</td>\n",
       "      <td>no</td>\n",
       "      <td>74.0</td>\n",
       "      <td>100</td>\n",
       "      <td>Risk</td>\n",
       "    </tr>\n",
       "    <tr>\n",
       "      <th>1516</th>\n",
       "      <td>0.932265</td>\n",
       "      <td>103595</td>\n",
       "      <td>CVA</td>\n",
       "      <td>no</td>\n",
       "      <td>yes</td>\n",
       "      <td>yes</td>\n",
       "      <td>no</td>\n",
       "      <td>no</td>\n",
       "      <td>84.0</td>\n",
       "      <td>50</td>\n",
       "      <td>NoRisk</td>\n",
       "    </tr>\n",
       "    <tr>\n",
       "      <th>1517</th>\n",
       "      <td>0.876531</td>\n",
       "      <td>211309</td>\n",
       "      <td>CVA</td>\n",
       "      <td>no</td>\n",
       "      <td>no</td>\n",
       "      <td>yes</td>\n",
       "      <td>no</td>\n",
       "      <td>no</td>\n",
       "      <td>76.0</td>\n",
       "      <td>20</td>\n",
       "      <td>NoRisk</td>\n",
       "    </tr>\n",
       "    <tr>\n",
       "      <th>1518</th>\n",
       "      <td>0.812032</td>\n",
       "      <td>116379</td>\n",
       "      <td>TIA</td>\n",
       "      <td>no</td>\n",
       "      <td>no</td>\n",
       "      <td>yes</td>\n",
       "      <td>yes</td>\n",
       "      <td>no</td>\n",
       "      <td>75.0</td>\n",
       "      <td>35</td>\n",
       "      <td>NoRisk</td>\n",
       "    </tr>\n",
       "    <tr>\n",
       "      <th>1519</th>\n",
       "      <td>0.517688</td>\n",
       "      <td>172848</td>\n",
       "      <td>A-F</td>\n",
       "      <td>no</td>\n",
       "      <td>no</td>\n",
       "      <td>no</td>\n",
       "      <td>no</td>\n",
       "      <td>no</td>\n",
       "      <td>81.0</td>\n",
       "      <td>30</td>\n",
       "      <td>NoRisk</td>\n",
       "    </tr>\n",
       "  </tbody>\n",
       "</table>\n",
       "<p>1520 rows × 11 columns</p>\n",
       "</div>"
      ],
      "text/plain": [
       "        Random      Id Indication Diabetes  IHD Hypertension Arrhythmia  \\\n",
       "0     0.473452  198992        CVA      yes  yes          yes        yes   \n",
       "1     0.218756  253100        CVA       no   no           no         no   \n",
       "2     0.131260  155737        CVA       no  yes          yes         no   \n",
       "3     0.102954  251222        A-F       no  yes           no         no   \n",
       "4     0.236142  197183        CVA       no   no           no         no   \n",
       "...        ...     ...        ...      ...  ...          ...        ...   \n",
       "1515  0.587315  113117        Asx       no  yes          yes        yes   \n",
       "1516  0.932265  103595        CVA       no  yes          yes         no   \n",
       "1517  0.876531  211309        CVA       no   no          yes         no   \n",
       "1518  0.812032  116379        TIA       no   no          yes        yes   \n",
       "1519  0.517688  172848        A-F       no   no           no         no   \n",
       "\n",
       "     History  IPSI Contra   label  \n",
       "0         no  89.0    100    Risk  \n",
       "1         no  67.0    100  NoRisk  \n",
       "2         no  79.0     20  NoRisk  \n",
       "3         no  69.0     40  NoRisk  \n",
       "4         no  89.0     30  NoRisk  \n",
       "...      ...   ...    ...     ...  \n",
       "1515      no  74.0    100    Risk  \n",
       "1516      no  84.0     50  NoRisk  \n",
       "1517      no  76.0     20  NoRisk  \n",
       "1518      no  75.0     35  NoRisk  \n",
       "1519      no  81.0     30  NoRisk  \n",
       "\n",
       "[1520 rows x 11 columns]"
      ]
     },
     "execution_count": 2,
     "metadata": {},
     "output_type": "execute_result"
    }
   ],
   "source": [
    "df = pd.read_csv('cardio-vascular--ACWData-1.csv')\n",
    "\n",
    "#keep a copy of df:\n",
    "initial_df = df.copy()\n",
    "\n",
    "df"
   ]
  },
  {
   "cell_type": "code",
   "execution_count": 3,
   "id": "abdcabd3",
   "metadata": {},
   "outputs": [
    {
     "name": "stdout",
     "output_type": "stream",
     "text": [
      "<class 'pandas.core.frame.DataFrame'>\n",
      "RangeIndex: 1520 entries, 0 to 1519\n",
      "Data columns (total 11 columns):\n",
      " #   Column        Non-Null Count  Dtype  \n",
      "---  ------        --------------  -----  \n",
      " 0   Random        1520 non-null   float64\n",
      " 1   Id            1520 non-null   int64  \n",
      " 2   Indication    1517 non-null   object \n",
      " 3   Diabetes      1518 non-null   object \n",
      " 4   IHD           1520 non-null   object \n",
      " 5   Hypertension  1517 non-null   object \n",
      " 6   Arrhythmia    1520 non-null   object \n",
      " 7   History       1518 non-null   object \n",
      " 8   IPSI          1516 non-null   float64\n",
      " 9   Contra        1520 non-null   object \n",
      " 10  label         1517 non-null   object \n",
      "dtypes: float64(2), int64(1), object(8)\n",
      "memory usage: 130.8+ KB\n"
     ]
    }
   ],
   "source": [
    "df.info()"
   ]
  },
  {
   "cell_type": "markdown",
   "id": "0850601a",
   "metadata": {},
   "source": [
    "# Check for unexpected values"
   ]
  },
  {
   "cell_type": "code",
   "execution_count": 4,
   "id": "764b6b73",
   "metadata": {
    "scrolled": false
   },
   "outputs": [
    {
     "name": "stdout",
     "output_type": "stream",
     "text": [
      "0.576376    4\n",
      "0.506731    4\n",
      "0.683789    4\n",
      "0.900209    4\n",
      "0.004209    3\n",
      "           ..\n",
      "0.722614    1\n",
      "0.592967    1\n",
      "0.597341    1\n",
      "0.521704    1\n",
      "0.517688    1\n",
      "Name: Random, Length: 1222, dtype: int64\n",
      "198992    1\n",
      "204351    1\n",
      "185911    1\n",
      "104391    1\n",
      "234251    1\n",
      "         ..\n",
      "288937    1\n",
      "95761     1\n",
      "141764    1\n",
      "120667    1\n",
      "172848    1\n",
      "Name: Id, Length: 1520, dtype: int64\n",
      "A-F    493\n",
      "CVA    416\n",
      "TIA    390\n",
      "ASx    186\n",
      "Asx     32\n",
      "Name: Indication, dtype: int64\n",
      "no     1441\n",
      "yes      77\n",
      "Name: Diabetes, dtype: int64\n",
      "no     801\n",
      "yes    719\n",
      "Name: IHD, dtype: int64\n",
      "no     784\n",
      "yes    733\n",
      "Name: Hypertension, dtype: int64\n",
      "no     1190\n",
      "yes     330\n",
      "Name: Arrhythmia, dtype: int64\n",
      "no     1494\n",
      "yes      24\n",
      "Name: History, dtype: int64\n",
      "69.0    231\n",
      "74.0    222\n",
      "79.0    188\n",
      "89.0    175\n",
      "94.0    157\n",
      "72.0     83\n",
      "84.0     77\n",
      "75.0     75\n",
      "77.0     50\n",
      "67.0     32\n",
      "98.0     31\n",
      "59.0     29\n",
      "80.0     28\n",
      "81.0     25\n",
      "49.0     23\n",
      "64.0     14\n",
      "78.0     13\n",
      "70.0     13\n",
      "76.0      9\n",
      "54.0      9\n",
      "50.0      7\n",
      "73.0      7\n",
      "96.0      7\n",
      "68.0      3\n",
      "66.0      2\n",
      "83.0      2\n",
      "71.0      2\n",
      "34.0      1\n",
      "97.0      1\n",
      "Name: IPSI, dtype: int64\n",
      "100    283\n",
      "20     192\n",
      "50     186\n",
      "30     163\n",
      "40     110\n",
      "60      99\n",
      "75      61\n",
      "70      53\n",
      "80      53\n",
      "10      50\n",
      "90      45\n",
      "85      35\n",
      "95      32\n",
      "25      30\n",
      "35      27\n",
      "55      23\n",
      "15      18\n",
      "65      17\n",
      "51      11\n",
      "53       9\n",
      "73       7\n",
      "45       6\n",
      "16       4\n",
      "62       3\n",
      "79       2\n",
      "         1\n",
      "Name: Contra, dtype: int64\n",
      "NoRisk     1008\n",
      "Risk        507\n",
      "Unknown       2\n",
      "Name: label, dtype: int64\n"
     ]
    }
   ],
   "source": [
    "for column in df.columns:\n",
    "    value_counts = df[column].value_counts()\n",
    "    print(value_counts)"
   ]
  },
  {
   "cell_type": "markdown",
   "id": "e3ded585",
   "metadata": {},
   "source": [
    "On quick inspection, the following can be observed:\n",
    "=========\n",
    "\n",
    "There are as many unique values in Id as there are rows, which means that no patient has been taken into account twice, which is good;\n",
    "\n",
    "In **'Indication'** there are two different ways in which Asx is inputed, \"ASx\" and \"Asx\"; \n",
    "There are also 3 missing values for this column, so this has to be taken care of;\n",
    "\n",
    "Two missing values in **'Diabetes'**;\n",
    "\n",
    "Three missing values in **'Hypertension'**;\n",
    "\n",
    "Two missing values in **'History'**, with high discrepancy towards 'no' -> could be filled in with 'no';\n",
    "\n",
    "Four missing values for **'IPSI'**. Varied amounts for varied values. Since I have no understanding about the impact of this value, those records should probably be dismissed.\n",
    "\n",
    "Everything is fine until we reach the **'Contra'** column, where we encounter a missing value, which has to be taken care of;\n",
    "\n",
    "\n",
    "In the **label** column, 2 outcomes are unknown and another 3 are null so these **lines should be removed** since they do not provide any meaningful value."
   ]
  },
  {
   "cell_type": "markdown",
   "id": "02a82b30",
   "metadata": {},
   "source": [
    "## Replacing all 'Asx' with 'ASx' to prepare 'Indication' for one-hot encoding:"
   ]
  },
  {
   "cell_type": "code",
   "execution_count": 5,
   "id": "9ae1ff95",
   "metadata": {
    "scrolled": true
   },
   "outputs": [
    {
     "name": "stdout",
     "output_type": "stream",
     "text": [
      "A-F    493\n",
      "CVA    416\n",
      "TIA    390\n",
      "ASx    218\n",
      "Name: Indication, dtype: int64\n"
     ]
    }
   ],
   "source": [
    "df['Indication']=df['Indication'].replace({'Asx':'ASx'})\n",
    "print(df['Indication'].value_counts())"
   ]
  },
  {
   "cell_type": "markdown",
   "id": "2c36c9bc",
   "metadata": {},
   "source": [
    "### That one non-null, ' ' value in 'Contra' should be replaced by the median"
   ]
  },
  {
   "cell_type": "code",
   "execution_count": 6,
   "id": "23c25676",
   "metadata": {},
   "outputs": [
    {
     "name": "stdout",
     "output_type": "stream",
     "text": [
      "Median value in 'Contra' column: 56.82817643186307\n"
     ]
    }
   ],
   "source": [
    "df.replace(' ', pd.NA, inplace=True)\n",
    "column_name = 'Contra' \n",
    "df[column_name] = pd.to_numeric(df[column_name], errors='coerce')\n",
    "\n",
    "# Calculate and print the median value of the column\n",
    "column_median = df[column_name].mean()\n",
    "print(\"Median value in '{}' column: {}\".format(column_name, column_median))"
   ]
  },
  {
   "cell_type": "markdown",
   "id": "1cb640ee",
   "metadata": {},
   "source": [
    "# Drop the 5 rows where label is not Risk/NoRisk (1/0)"
   ]
  },
  {
   "cell_type": "code",
   "execution_count": 7,
   "id": "3f26b866",
   "metadata": {},
   "outputs": [
    {
     "name": "stdout",
     "output_type": "stream",
     "text": [
      "A-F    493\n",
      "CVA    413\n",
      "TIA    389\n",
      "ASx    217\n",
      "Name: Indication, dtype: int64\n",
      "no     1437\n",
      "yes      76\n",
      "Name: Diabetes, dtype: int64\n",
      "no     799\n",
      "yes    716\n",
      "Name: IHD, dtype: int64\n",
      "no     783\n",
      "yes    729\n",
      "Name: Hypertension, dtype: int64\n",
      "no     1187\n",
      "yes     328\n",
      "Name: Arrhythmia, dtype: int64\n",
      "no     1490\n",
      "yes      23\n",
      "Name: History, dtype: int64\n",
      "69.0    230\n",
      "74.0    222\n",
      "79.0    187\n",
      "89.0    174\n",
      "94.0    156\n",
      "72.0     83\n",
      "84.0     77\n",
      "75.0     74\n",
      "77.0     50\n",
      "67.0     32\n",
      "98.0     31\n",
      "59.0     29\n",
      "80.0     28\n",
      "81.0     25\n",
      "49.0     23\n",
      "64.0     14\n",
      "78.0     13\n",
      "70.0     13\n",
      "76.0      9\n",
      "54.0      9\n",
      "50.0      7\n",
      "73.0      7\n",
      "96.0      7\n",
      "68.0      3\n",
      "66.0      2\n",
      "83.0      2\n",
      "71.0      2\n",
      "34.0      1\n",
      "97.0      1\n",
      "Name: IPSI, dtype: int64\n",
      "100.0    282\n",
      "20.0     192\n",
      "50.0     184\n",
      "30.0     163\n",
      "40.0     110\n",
      "60.0      99\n",
      "75.0      61\n",
      "80.0      53\n",
      "70.0      52\n",
      "10.0      50\n",
      "90.0      45\n",
      "85.0      35\n",
      "95.0      32\n",
      "25.0      30\n",
      "35.0      27\n",
      "55.0      22\n",
      "15.0      18\n",
      "65.0      17\n",
      "51.0      11\n",
      "53.0       9\n",
      "73.0       7\n",
      "45.0       6\n",
      "16.0       4\n",
      "62.0       3\n",
      "79.0       2\n",
      "Name: Contra, dtype: int64\n",
      "NoRisk    1008\n",
      "Risk       507\n",
      "Name: label, dtype: int64\n"
     ]
    }
   ],
   "source": [
    "# we could also drop 'Random' and 'Id' columns since they dont provide useful information\n",
    "df=df.drop(columns=['Random','Id'])\n",
    "\n",
    "df.dropna(subset=['label'], inplace=True)\n",
    "# drop those 2 'Unknown' values as well since they do not help with training/testing\n",
    "df=df[df['label']!='Unknown']\n",
    "df.info\n",
    "for column in df.columns:\n",
    "    value_counts = df[column].value_counts()\n",
    "    print(value_counts)"
   ]
  },
  {
   "cell_type": "markdown",
   "id": "e588910b",
   "metadata": {},
   "source": [
    "# Imputing missing values:"
   ]
  },
  {
   "cell_type": "markdown",
   "id": "2aa5cdd8",
   "metadata": {},
   "source": [
    "Imputing yes/no values with mode preserves dominant class, avoids bias and, well, it is simple."
   ]
  },
  {
   "cell_type": "code",
   "execution_count": 8,
   "id": "6dcb5df5",
   "metadata": {},
   "outputs": [
    {
     "name": "stdout",
     "output_type": "stream",
     "text": [
      "Indication      0\n",
      "Diabetes        0\n",
      "IHD             0\n",
      "Hypertension    0\n",
      "Arrhythmia      0\n",
      "History         0\n",
      "IPSI            0\n",
      "Contra          0\n",
      "label           0\n",
      "dtype: int64\n"
     ]
    }
   ],
   "source": [
    "from sklearn.impute import SimpleImputer\n",
    "\n",
    "#create mode imputer for yes/no columns\n",
    "imputer = SimpleImputer(strategy ='most_frequent')\n",
    "df[['Indication', 'Diabetes', 'IHD', 'Hypertension', 'Arrhythmia','History']]=imputer.fit_transform(df[['Indication','Diabetes', 'IHD', 'Hypertension', 'Arrhythmia','History']])\n",
    "\n",
    "#create median imputer for 'IPSI'\n",
    "imputer = SimpleImputer(strategy ='median')\n",
    "df[['Contra','IPSI']]=imputer.fit_transform(df[['Contra', 'IPSI']])\n",
    "\n",
    "#check for null values now\n",
    "print(df.isnull().sum())"
   ]
  },
  {
   "cell_type": "markdown",
   "id": "0879916a",
   "metadata": {},
   "source": [
    "## One-hot encoding for 'Indication', label encoding for 'label' and no for the rest of the categorical columns (the ones with yes/no):"
   ]
  },
  {
   "cell_type": "code",
   "execution_count": 9,
   "id": "d50fb5a2",
   "metadata": {},
   "outputs": [],
   "source": [
    "from sklearn.preprocessing import LabelEncoder, OneHotEncoder\n",
    "label_encoder = LabelEncoder()\n",
    "df['label'] = label_encoder.fit_transform(df['label'])\n",
    "\n",
    "ohe = OneHotEncoder()\n",
    "feature_encoded = ohe.fit_transform(df[['Indication']]).toarray()\n",
    "categories = ohe.categories_[0]\n",
    "columns_encoded = [f'Indication_{category}' for category in categories]\n",
    "df_encoded = pd.concat([df, pd.DataFrame(feature_encoded, columns=columns_encoded)], axis=1)\n",
    "\n",
    "# drop original 'Indication' column\n",
    "df_encoded.drop(columns = ['Indication'], inplace=True)"
   ]
  },
  {
   "cell_type": "code",
   "execution_count": 10,
   "id": "a092bf6b",
   "metadata": {},
   "outputs": [
    {
     "name": "stdout",
     "output_type": "stream",
     "text": [
      "Diabetes          0\n",
      "IHD               0\n",
      "Hypertension      0\n",
      "Arrhythmia        0\n",
      "History           0\n",
      "IPSI              0\n",
      "Contra            0\n",
      "label             0\n",
      "Indication_A-F    0\n",
      "Indication_ASx    0\n",
      "Indication_CVA    0\n",
      "Indication_TIA    0\n",
      "dtype: int64\n",
      "no     1434\n",
      "yes      76\n",
      "Name: Diabetes, dtype: int64\n",
      "no     796\n",
      "yes    714\n",
      "Name: IHD, dtype: int64\n",
      "no     785\n",
      "yes    725\n",
      "Name: Hypertension, dtype: int64\n",
      "no     1184\n",
      "yes     326\n",
      "Name: Arrhythmia, dtype: int64\n",
      "no     1487\n",
      "yes      23\n",
      "Name: History, dtype: int64\n",
      "69.0    230\n",
      "74.0    221\n",
      "79.0    187\n",
      "89.0    174\n",
      "94.0    156\n",
      "72.0     83\n",
      "84.0     76\n",
      "75.0     73\n",
      "77.0     50\n",
      "67.0     32\n",
      "98.0     31\n",
      "59.0     29\n",
      "80.0     28\n",
      "81.0     24\n",
      "49.0     23\n",
      "64.0     14\n",
      "78.0     13\n",
      "70.0     13\n",
      "76.0     12\n",
      "54.0      9\n",
      "50.0      7\n",
      "73.0      7\n",
      "96.0      7\n",
      "68.0      3\n",
      "66.0      2\n",
      "83.0      2\n",
      "71.0      2\n",
      "34.0      1\n",
      "97.0      1\n",
      "Name: IPSI, dtype: int64\n",
      "100.0    281\n",
      "20.0     191\n",
      "50.0     184\n",
      "30.0     162\n",
      "40.0     110\n",
      "60.0      99\n",
      "75.0      61\n",
      "80.0      53\n",
      "70.0      52\n",
      "10.0      50\n",
      "90.0      45\n",
      "85.0      35\n",
      "95.0      32\n",
      "25.0      30\n",
      "35.0      26\n",
      "55.0      22\n",
      "15.0      18\n",
      "65.0      17\n",
      "51.0      11\n",
      "53.0       9\n",
      "73.0       7\n",
      "45.0       6\n",
      "16.0       4\n",
      "62.0       3\n",
      "79.0       2\n",
      "Name: Contra, dtype: int64\n",
      "0.0    1004\n",
      "1.0     506\n",
      "Name: label, dtype: int64\n",
      "0.0    1017\n",
      "1.0     493\n",
      "Name: Indication_A-F, dtype: int64\n",
      "0.0    1293\n",
      "1.0     217\n",
      "Name: Indication_ASx, dtype: int64\n",
      "0.0    1099\n",
      "1.0     411\n",
      "Name: Indication_CVA, dtype: int64\n",
      "0.0    1121\n",
      "1.0     389\n",
      "Name: Indication_TIA, dtype: int64\n"
     ]
    }
   ],
   "source": [
    "# remove '2' and '3' from label since they are something other than 0 or 1\n",
    "df_encoded= df_encoded[df_encoded['label']!=2]\n",
    "df_encoded= df_encoded[df_encoded['label']!=3]\n",
    "\n",
    "# drop those 5 NaN rows.\n",
    "df_encoded.dropna(inplace=True)\n",
    "#check for null values again to make sure\n",
    "print(df_encoded.isnull().sum())\n",
    "\n",
    "\n",
    "for column in df_encoded.columns:\n",
    "    value_counts = df_encoded[column].value_counts()\n",
    "    print(value_counts)"
   ]
  },
  {
   "cell_type": "code",
   "execution_count": 11,
   "id": "fe30fdc7",
   "metadata": {},
   "outputs": [
    {
     "name": "stdout",
     "output_type": "stream",
     "text": [
      "<class 'pandas.core.frame.DataFrame'>\n",
      "Int64Index: 1510 entries, 0 to 1514\n",
      "Data columns (total 12 columns):\n",
      " #   Column          Non-Null Count  Dtype  \n",
      "---  ------          --------------  -----  \n",
      " 0   Diabetes        1510 non-null   object \n",
      " 1   IHD             1510 non-null   object \n",
      " 2   Hypertension    1510 non-null   object \n",
      " 3   Arrhythmia      1510 non-null   object \n",
      " 4   History         1510 non-null   object \n",
      " 5   IPSI            1510 non-null   float64\n",
      " 6   Contra          1510 non-null   float64\n",
      " 7   label           1510 non-null   float64\n",
      " 8   Indication_A-F  1510 non-null   float64\n",
      " 9   Indication_ASx  1510 non-null   float64\n",
      " 10  Indication_CVA  1510 non-null   float64\n",
      " 11  Indication_TIA  1510 non-null   float64\n",
      "dtypes: float64(7), object(5)\n",
      "memory usage: 153.4+ KB\n"
     ]
    }
   ],
   "source": [
    "df_encoded.info()"
   ]
  },
  {
   "cell_type": "markdown",
   "id": "844f42f3",
   "metadata": {},
   "source": [
    "# Now that there are no null values left, turn yes/no into 1/0"
   ]
  },
  {
   "cell_type": "code",
   "execution_count": 12,
   "id": "d87c5a88",
   "metadata": {},
   "outputs": [],
   "source": [
    "yes_no_columns = ['Diabetes', 'IHD', 'Hypertension', 'Arrhythmia', 'History']  # Replace with the actual column names\n",
    "df_encoded[yes_no_columns] = df_encoded[yes_no_columns].replace({'yes': 1, 'no': 0})"
   ]
  },
  {
   "cell_type": "code",
   "execution_count": 13,
   "id": "5a940dff",
   "metadata": {},
   "outputs": [
    {
     "name": "stdout",
     "output_type": "stream",
     "text": [
      "0    1434\n",
      "1      76\n",
      "Name: Diabetes, dtype: int64\n",
      "0    796\n",
      "1    714\n",
      "Name: IHD, dtype: int64\n",
      "0    785\n",
      "1    725\n",
      "Name: Hypertension, dtype: int64\n",
      "0    1184\n",
      "1     326\n",
      "Name: Arrhythmia, dtype: int64\n",
      "0    1487\n",
      "1      23\n",
      "Name: History, dtype: int64\n",
      "69.0    230\n",
      "74.0    221\n",
      "79.0    187\n",
      "89.0    174\n",
      "94.0    156\n",
      "72.0     83\n",
      "84.0     76\n",
      "75.0     73\n",
      "77.0     50\n",
      "67.0     32\n",
      "98.0     31\n",
      "59.0     29\n",
      "80.0     28\n",
      "81.0     24\n",
      "49.0     23\n",
      "64.0     14\n",
      "78.0     13\n",
      "70.0     13\n",
      "76.0     12\n",
      "54.0      9\n",
      "50.0      7\n",
      "73.0      7\n",
      "96.0      7\n",
      "68.0      3\n",
      "66.0      2\n",
      "83.0      2\n",
      "71.0      2\n",
      "34.0      1\n",
      "97.0      1\n",
      "Name: IPSI, dtype: int64\n",
      "100.0    281\n",
      "20.0     191\n",
      "50.0     184\n",
      "30.0     162\n",
      "40.0     110\n",
      "60.0      99\n",
      "75.0      61\n",
      "80.0      53\n",
      "70.0      52\n",
      "10.0      50\n",
      "90.0      45\n",
      "85.0      35\n",
      "95.0      32\n",
      "25.0      30\n",
      "35.0      26\n",
      "55.0      22\n",
      "15.0      18\n",
      "65.0      17\n",
      "51.0      11\n",
      "53.0       9\n",
      "73.0       7\n",
      "45.0       6\n",
      "16.0       4\n",
      "62.0       3\n",
      "79.0       2\n",
      "Name: Contra, dtype: int64\n",
      "0.0    1004\n",
      "1.0     506\n",
      "Name: label, dtype: int64\n",
      "0.0    1017\n",
      "1.0     493\n",
      "Name: Indication_A-F, dtype: int64\n",
      "0.0    1293\n",
      "1.0     217\n",
      "Name: Indication_ASx, dtype: int64\n",
      "0.0    1099\n",
      "1.0     411\n",
      "Name: Indication_CVA, dtype: int64\n",
      "0.0    1121\n",
      "1.0     389\n",
      "Name: Indication_TIA, dtype: int64\n"
     ]
    }
   ],
   "source": [
    "for column in df_encoded.columns:\n",
    "    value_counts = df_encoded[column].value_counts()\n",
    "    print(value_counts)"
   ]
  },
  {
   "cell_type": "markdown",
   "id": "76d6761c",
   "metadata": {},
   "source": [
    "# Now the dataframe should be clean and ready to be split in X and y\n",
    "X is the feature matrix and y is the target label. Each of these will be split into train and test data.\n",
    "Support Vector Machines are better used when the data has higher dimensions, which is not the case now.\n",
    "Decision Trees would be a good choice, but this problem looks like a K-Fold + Linear Regression would be the better fit."
   ]
  },
  {
   "cell_type": "code",
   "execution_count": 14,
   "id": "1584030d",
   "metadata": {
    "scrolled": false
   },
   "outputs": [
    {
     "name": "stderr",
     "output_type": "stream",
     "text": [
      "E:\\anaconda3\\lib\\site-packages\\sklearn\\linear_model\\_logistic.py:458: ConvergenceWarning: lbfgs failed to converge (status=1):\n",
      "STOP: TOTAL NO. of ITERATIONS REACHED LIMIT.\n",
      "\n",
      "Increase the number of iterations (max_iter) or scale the data as shown in:\n",
      "    https://scikit-learn.org/stable/modules/preprocessing.html\n",
      "Please also refer to the documentation for alternative solver options:\n",
      "    https://scikit-learn.org/stable/modules/linear_model.html#logistic-regression\n",
      "  n_iter_i = _check_optimize_result(\n"
     ]
    },
    {
     "name": "stdout",
     "output_type": "stream",
     "text": [
      "Confusion Matrix:\n",
      "[[205   1]\n",
      " [ 10  86]]\n",
      "0.9635761589403974\n"
     ]
    },
    {
     "data": {
      "image/png": "[encoded data removed]",
      "text/plain": [
       "<Figure size 800x600 with 2 Axes>"
      ]
     },
     "metadata": {},
     "output_type": "display_data"
    },
    {
     "name": "stderr",
     "output_type": "stream",
     "text": [
      "E:\\anaconda3\\lib\\site-packages\\sklearn\\linear_model\\_logistic.py:458: ConvergenceWarning: lbfgs failed to converge (status=1):\n",
      "STOP: TOTAL NO. of ITERATIONS REACHED LIMIT.\n",
      "\n",
      "Increase the number of iterations (max_iter) or scale the data as shown in:\n",
      "    https://scikit-learn.org/stable/modules/preprocessing.html\n",
      "Please also refer to the documentation for alternative solver options:\n",
      "    https://scikit-learn.org/stable/modules/linear_model.html#logistic-regression\n",
      "  n_iter_i = _check_optimize_result(\n"
     ]
    },
    {
     "name": "stdout",
     "output_type": "stream",
     "text": [
      "Confusion Matrix:\n",
      "[[189   9]\n",
      " [  8  96]]\n",
      "0.9437086092715232\n"
     ]
    },
    {
     "data": {
      "image/png": "[encoded data removed]",
      "text/plain": [
       "<Figure size 800x600 with 2 Axes>"
      ]
     },
     "metadata": {},
     "output_type": "display_data"
    },
    {
     "name": "stderr",
     "output_type": "stream",
     "text": [
      "E:\\anaconda3\\lib\\site-packages\\sklearn\\linear_model\\_logistic.py:458: ConvergenceWarning: lbfgs failed to converge (status=1):\n",
      "STOP: TOTAL NO. of ITERATIONS REACHED LIMIT.\n",
      "\n",
      "Increase the number of iterations (max_iter) or scale the data as shown in:\n",
      "    https://scikit-learn.org/stable/modules/preprocessing.html\n",
      "Please also refer to the documentation for alternative solver options:\n",
      "    https://scikit-learn.org/stable/modules/linear_model.html#logistic-regression\n",
      "  n_iter_i = _check_optimize_result(\n"
     ]
    },
    {
     "name": "stdout",
     "output_type": "stream",
     "text": [
      "Confusion Matrix:\n",
      "[[210   6]\n",
      " [  6  80]]\n",
      "0.9602649006622517\n"
     ]
    },
    {
     "data": {
      "image/png": "[encoded data removed]",
      "text/plain": [
       "<Figure size 800x600 with 2 Axes>"
      ]
     },
     "metadata": {},
     "output_type": "display_data"
    },
    {
     "name": "stderr",
     "output_type": "stream",
     "text": [
      "E:\\anaconda3\\lib\\site-packages\\sklearn\\linear_model\\_logistic.py:458: ConvergenceWarning: lbfgs failed to converge (status=1):\n",
      "STOP: TOTAL NO. of ITERATIONS REACHED LIMIT.\n",
      "\n",
      "Increase the number of iterations (max_iter) or scale the data as shown in:\n",
      "    https://scikit-learn.org/stable/modules/preprocessing.html\n",
      "Please also refer to the documentation for alternative solver options:\n",
      "    https://scikit-learn.org/stable/modules/linear_model.html#logistic-regression\n",
      "  n_iter_i = _check_optimize_result(\n"
     ]
    },
    {
     "name": "stdout",
     "output_type": "stream",
     "text": [
      "Confusion Matrix:\n",
      "[[189   3]\n",
      " [ 15  95]]\n",
      "0.9403973509933775\n"
     ]
    },
    {
     "data": {
      "image/png": "[encoded data removed]",
      "text/plain": [
       "<Figure size 800x600 with 2 Axes>"
      ]
     },
     "metadata": {},
     "output_type": "display_data"
    },
    {
     "name": "stderr",
     "output_type": "stream",
     "text": [
      "E:\\anaconda3\\lib\\site-packages\\sklearn\\linear_model\\_logistic.py:458: ConvergenceWarning: lbfgs failed to converge (status=1):\n",
      "STOP: TOTAL NO. of ITERATIONS REACHED LIMIT.\n",
      "\n",
      "Increase the number of iterations (max_iter) or scale the data as shown in:\n",
      "    https://scikit-learn.org/stable/modules/preprocessing.html\n",
      "Please also refer to the documentation for alternative solver options:\n",
      "    https://scikit-learn.org/stable/modules/linear_model.html#logistic-regression\n",
      "  n_iter_i = _check_optimize_result(\n"
     ]
    },
    {
     "name": "stdout",
     "output_type": "stream",
     "text": [
      "Confusion Matrix:\n",
      "[[186   6]\n",
      " [ 11  99]]\n",
      "0.9437086092715232\n"
     ]
    },
    {
     "data": {
      "image/png": "[encoded data removed]",
      "text/plain": [
       "<Figure size 800x600 with 2 Axes>"
      ]
     },
     "metadata": {},
     "output_type": "display_data"
    },
    {
     "name": "stdout",
     "output_type": "stream",
     "text": [
      "Average Accuracy: 0.95\n",
      "Standard Deviation of Accuracy: 0.01\n"
     ]
    }
   ],
   "source": [
    "from sklearn.model_selection import train_test_split\n",
    "from sklearn.model_selection import KFold\n",
    "from sklearn.linear_model import LogisticRegression\n",
    "from sklearn.metrics import accuracy_score, confusion_matrix\n",
    "import matplotlib.pyplot as plt\n",
    "import seaborn as sns\n",
    "\n",
    "X = df_encoded.drop(columns=['label']) \n",
    "y = df_encoded['label']\n",
    "\n",
    "# 5 folds for cross-validation\n",
    "k = 5\n",
    "\n",
    "# initialize KFold cross-validator\n",
    "kf = KFold(n_splits=k, shuffle=True, random_state=42)\n",
    "\n",
    "accuracy_scores = []\n",
    "\n",
    "# perform K-Fold Cross-Validation (each split will be 80-20)\n",
    "for train_index, test_index in kf.split(X):\n",
    "    # Get the training and test sets for this fold\n",
    "    X_train, X_test = X.iloc[train_index], X.iloc[test_index]\n",
    "    y_train, y_test = y.iloc[train_index], y.iloc[test_index]\n",
    "\n",
    "    # Initialize the model (logistic regression here)\n",
    "    model = LogisticRegression()\n",
    "\n",
    "    # Train the model on the training set\n",
    "    model.fit(X_train, y_train)\n",
    "\n",
    "    # Make predictions on the test set\n",
    "    y_pred = model.predict(X_test)\n",
    "\n",
    "    # Calculate the evaluation metric (accuracy) for this fold\n",
    "    accuracy = accuracy_score(y_test, y_pred)\n",
    "    accuracy_scores.append(accuracy)\n",
    "    conf_matrix = confusion_matrix(y_test, y_pred)\n",
    "    print(\"Confusion Matrix:\")\n",
    "    print(conf_matrix)\n",
    "    print(accuracy)\n",
    "    \n",
    "    normalized_conf_matrix = conf_matrix.astype('float') / conf_matrix.sum(axis=1)[:, np.newaxis]\n",
    "\n",
    "    # Create a DataFrame from the normalized confusion matrix\n",
    "    classes = df['label'].unique()  # Replace 'target_column' with the actual name of your target column\n",
    "    df_normalized_conf_matrix = pd.DataFrame(normalized_conf_matrix, index=classes, columns=classes)\n",
    "\n",
    "    # Create a heatmap using seaborn\n",
    "    plt.figure(figsize=(8, 6))\n",
    "    sns.heatmap(df_normalized_conf_matrix, annot=True, cmap='Blues', fmt='.2f', annot_kws={\"size\": 14})\n",
    "    plt.xlabel('Predicted Label', fontsize=14)\n",
    "    plt.ylabel('True Label', fontsize=14)\n",
    "    plt.title('Normalized Confusion Matrix', fontsize=16)\n",
    "    plt.show()\n",
    "    \n",
    "    \n",
    "    \n",
    "\n",
    "# This should print for each split, the confusion matrice with the actual non-normalised numbers in them,\n",
    "# the accuracy for that split and plot the visual confusion matrice, this time normalised.\n",
    "\n",
    "# Calculate the average and standard deviation of the evaluation metric across all folds\n",
    "average_accuracy = sum(accuracy_scores) / len(accuracy_scores)\n",
    "std_dev_accuracy = pd.Series(accuracy_scores).std()\n",
    "\n",
    "# Print the results\n",
    "print(\"Average Accuracy: {:.2f}\".format(average_accuracy))\n",
    "print(\"Standard Deviation of Accuracy: {:.2f}\".format(std_dev_accuracy))"
   ]
  },
  {
   "cell_type": "markdown",
   "id": "6e682d35",
   "metadata": {},
   "source": [
    "# Interpreting these confusion matrices\n",
    "## First, these accuracy scores almost look too good to be true. Same for the rate of FN\n",
    "\n",
    "Because of the nature of the thing we want to predict, it is more important to have few false negatives (which means to predict that a pacient is not as risk, when they actually are at risk) and it is more acceptable to have a higher level of false positives (which is to predict that a pacient is at risk when they are not). In one case their life is at risk, in the other it is literally just a false alarm.\n",
    "\n",
    "### It might be best to not be overconfident in the model that we choose, so we should probably pick the 3rd model since it might be more realistic than the ones that have 0 for FN or extremely high accuracy."
   ]
  },
  {
   "cell_type": "markdown",
   "id": "7f3883e9",
   "metadata": {},
   "source": [
    "# Deployment:\n",
    "There is no actual deployment phase in scope of this project. Producing the final report can be seen as deployment.\n",
    "# !This only works if 'cardio-vascular--ACWData-1.csv' is in the same folder!"
   ]
  }
 ],
 "metadata": {
  "kernelspec": {
   "display_name": "Python 3 (ipykernel)",
   "language": "python",
   "name": "python3"
  },
  "language_info": {
   "codemirror_mode": {
    "name": "ipython",
    "version": 3
   },
   "file_extension": ".py",
   "mimetype": "text/x-python",
   "name": "python",
   "nbconvert_exporter": "python",
   "pygments_lexer": "ipython3",
   "version": "3.10.9"
  }
 },
 "nbformat": 4,
 "nbformat_minor": 5
}
